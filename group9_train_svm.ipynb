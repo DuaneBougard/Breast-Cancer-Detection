{
 "cells": [
  {
   "cell_type": "code",
   "execution_count": 1,
   "metadata": {},
   "outputs": [],
   "source": [
    "%run group9_dividedata.ipynb"
   ]
  },
  {
   "cell_type": "code",
   "execution_count": 2,
   "metadata": {
    "scrolled": true
   },
   "outputs": [
    {
     "name": "stdout",
     "output_type": "stream",
     "text": [
      "# Tuning hyper-parameters for precision\n",
      "\n",
      "Best parameters set found :\n",
      "\n",
      "{'C': 0.125, 'gamma': 0.0078125, 'kernel': 'rbf'}\n",
      "\n",
      "Grid scores on development set:\n",
      "\n",
      "0.911 (+/-0.067) for {'C': 0.125, 'gamma': 0.00048828125, 'kernel': 'rbf'}\n",
      "0.950 (+/-0.057) for {'C': 0.125, 'gamma': 0.001953125, 'kernel': 'rbf'}\n",
      "0.955 (+/-0.058) for {'C': 0.125, 'gamma': 0.0078125, 'kernel': 'rbf'}\n",
      "0.344 (+/-0.005) for {'C': 0.125, 'gamma': 32, 'kernel': 'rbf'}\n",
      "0.894 (+/-0.078) for {'C': 0.125, 'gamma': 0.125, 'kernel': 'rbf'}\n",
      "0.344 (+/-0.005) for {'C': 0.125, 'gamma': 0.5, 'kernel': 'rbf'}\n",
      "0.344 (+/-0.005) for {'C': 0.125, 'gamma': 2, 'kernel': 'rbf'}\n",
      "0.344 (+/-0.005) for {'C': 0.125, 'gamma': 8, 'kernel': 'rbf'}\n",
      "0.950 (+/-0.057) for {'C': 0.5, 'gamma': 0.00048828125, 'kernel': 'rbf'}\n",
      "0.950 (+/-0.063) for {'C': 0.5, 'gamma': 0.001953125, 'kernel': 'rbf'}\n",
      "0.952 (+/-0.064) for {'C': 0.5, 'gamma': 0.0078125, 'kernel': 'rbf'}\n",
      "0.344 (+/-0.005) for {'C': 0.5, 'gamma': 32, 'kernel': 'rbf'}\n",
      "0.919 (+/-0.079) for {'C': 0.5, 'gamma': 0.125, 'kernel': 'rbf'}\n",
      "0.863 (+/-0.090) for {'C': 0.5, 'gamma': 0.5, 'kernel': 'rbf'}\n",
      "0.344 (+/-0.005) for {'C': 0.5, 'gamma': 2, 'kernel': 'rbf'}\n",
      "0.344 (+/-0.005) for {'C': 0.5, 'gamma': 8, 'kernel': 'rbf'}\n",
      "0.953 (+/-0.058) for {'C': 2, 'gamma': 0.00048828125, 'kernel': 'rbf'}\n",
      "0.950 (+/-0.063) for {'C': 2, 'gamma': 0.001953125, 'kernel': 'rbf'}\n",
      "0.954 (+/-0.064) for {'C': 2, 'gamma': 0.0078125, 'kernel': 'rbf'}\n",
      "0.344 (+/-0.005) for {'C': 2, 'gamma': 32, 'kernel': 'rbf'}\n",
      "0.927 (+/-0.086) for {'C': 2, 'gamma': 0.125, 'kernel': 'rbf'}\n",
      "0.887 (+/-0.080) for {'C': 2, 'gamma': 0.5, 'kernel': 'rbf'}\n",
      "0.344 (+/-0.005) for {'C': 2, 'gamma': 2, 'kernel': 'rbf'}\n",
      "0.344 (+/-0.005) for {'C': 2, 'gamma': 8, 'kernel': 'rbf'}\n",
      "0.950 (+/-0.063) for {'C': 8, 'gamma': 0.00048828125, 'kernel': 'rbf'}\n",
      "0.954 (+/-0.064) for {'C': 8, 'gamma': 0.001953125, 'kernel': 'rbf'}\n",
      "0.941 (+/-0.054) for {'C': 8, 'gamma': 0.0078125, 'kernel': 'rbf'}\n",
      "0.344 (+/-0.005) for {'C': 8, 'gamma': 32, 'kernel': 'rbf'}\n",
      "0.927 (+/-0.086) for {'C': 8, 'gamma': 0.125, 'kernel': 'rbf'}\n",
      "0.887 (+/-0.080) for {'C': 8, 'gamma': 0.5, 'kernel': 'rbf'}\n",
      "0.344 (+/-0.005) for {'C': 8, 'gamma': 2, 'kernel': 'rbf'}\n",
      "0.344 (+/-0.005) for {'C': 8, 'gamma': 8, 'kernel': 'rbf'}\n",
      "0.954 (+/-0.064) for {'C': 32, 'gamma': 0.00048828125, 'kernel': 'rbf'}\n",
      "0.953 (+/-0.060) for {'C': 32, 'gamma': 0.001953125, 'kernel': 'rbf'}\n",
      "0.946 (+/-0.055) for {'C': 32, 'gamma': 0.0078125, 'kernel': 'rbf'}\n",
      "0.344 (+/-0.005) for {'C': 32, 'gamma': 32, 'kernel': 'rbf'}\n",
      "0.927 (+/-0.086) for {'C': 32, 'gamma': 0.125, 'kernel': 'rbf'}\n",
      "0.887 (+/-0.080) for {'C': 32, 'gamma': 0.5, 'kernel': 'rbf'}\n",
      "0.344 (+/-0.005) for {'C': 32, 'gamma': 2, 'kernel': 'rbf'}\n",
      "0.344 (+/-0.005) for {'C': 32, 'gamma': 8, 'kernel': 'rbf'}\n",
      "0.954 (+/-0.064) for {'C': 128, 'gamma': 0.00048828125, 'kernel': 'rbf'}\n",
      "0.949 (+/-0.053) for {'C': 128, 'gamma': 0.001953125, 'kernel': 'rbf'}\n",
      "0.929 (+/-0.059) for {'C': 128, 'gamma': 0.0078125, 'kernel': 'rbf'}\n",
      "0.344 (+/-0.005) for {'C': 128, 'gamma': 32, 'kernel': 'rbf'}\n",
      "0.927 (+/-0.086) for {'C': 128, 'gamma': 0.125, 'kernel': 'rbf'}\n",
      "0.887 (+/-0.080) for {'C': 128, 'gamma': 0.5, 'kernel': 'rbf'}\n",
      "0.344 (+/-0.005) for {'C': 128, 'gamma': 2, 'kernel': 'rbf'}\n",
      "0.344 (+/-0.005) for {'C': 128, 'gamma': 8, 'kernel': 'rbf'}\n",
      "0.953 (+/-0.060) for {'C': 512, 'gamma': 0.00048828125, 'kernel': 'rbf'}\n",
      "0.942 (+/-0.046) for {'C': 512, 'gamma': 0.001953125, 'kernel': 'rbf'}\n",
      "0.935 (+/-0.068) for {'C': 512, 'gamma': 0.0078125, 'kernel': 'rbf'}\n",
      "0.344 (+/-0.005) for {'C': 512, 'gamma': 32, 'kernel': 'rbf'}\n",
      "0.927 (+/-0.086) for {'C': 512, 'gamma': 0.125, 'kernel': 'rbf'}\n",
      "0.887 (+/-0.080) for {'C': 512, 'gamma': 0.5, 'kernel': 'rbf'}\n",
      "0.344 (+/-0.005) for {'C': 512, 'gamma': 2, 'kernel': 'rbf'}\n",
      "0.344 (+/-0.005) for {'C': 512, 'gamma': 8, 'kernel': 'rbf'}\n",
      "0.947 (+/-0.055) for {'C': 2048, 'gamma': 0.00048828125, 'kernel': 'rbf'}\n",
      "0.926 (+/-0.077) for {'C': 2048, 'gamma': 0.001953125, 'kernel': 'rbf'}\n",
      "0.935 (+/-0.068) for {'C': 2048, 'gamma': 0.0078125, 'kernel': 'rbf'}\n",
      "0.344 (+/-0.005) for {'C': 2048, 'gamma': 32, 'kernel': 'rbf'}\n",
      "0.927 (+/-0.086) for {'C': 2048, 'gamma': 0.125, 'kernel': 'rbf'}\n",
      "0.887 (+/-0.080) for {'C': 2048, 'gamma': 0.5, 'kernel': 'rbf'}\n",
      "0.344 (+/-0.005) for {'C': 2048, 'gamma': 2, 'kernel': 'rbf'}\n",
      "0.344 (+/-0.005) for {'C': 2048, 'gamma': 8, 'kernel': 'rbf'}\n",
      "\n",
      "Detailed classification report:\n",
      "\n",
      "The model is trained on the full development set.\n",
      "The scores are computed on the full evaluation set.\n",
      "\n",
      "              precision    recall  f1-score   support\n",
      "\n",
      "           2       0.94      0.98      0.96        81\n",
      "           4       0.96      0.92      0.94        59\n",
      "\n",
      "   micro avg       0.95      0.95      0.95       140\n",
      "   macro avg       0.95      0.95      0.95       140\n",
      "weighted avg       0.95      0.95      0.95       140\n",
      "\n",
      "\n",
      "# Tuning hyper-parameters for recall\n",
      "\n",
      "Best parameters set found :\n",
      "\n",
      "{'C': 2, 'gamma': 0.0078125, 'kernel': 'rbf'}\n",
      "\n",
      "Grid scores on development set:\n",
      "\n",
      "0.841 (+/-0.109) for {'C': 0.125, 'gamma': 0.00048828125, 'kernel': 'rbf'}\n",
      "0.944 (+/-0.085) for {'C': 0.125, 'gamma': 0.001953125, 'kernel': 'rbf'}\n",
      "0.957 (+/-0.082) for {'C': 0.125, 'gamma': 0.0078125, 'kernel': 'rbf'}\n",
      "0.500 (+/-0.000) for {'C': 0.125, 'gamma': 32, 'kernel': 'rbf'}\n",
      "0.936 (+/-0.057) for {'C': 0.125, 'gamma': 0.125, 'kernel': 'rbf'}\n",
      "0.500 (+/-0.000) for {'C': 0.125, 'gamma': 0.5, 'kernel': 'rbf'}\n",
      "0.500 (+/-0.000) for {'C': 0.125, 'gamma': 2, 'kernel': 'rbf'}\n",
      "0.500 (+/-0.000) for {'C': 0.125, 'gamma': 8, 'kernel': 'rbf'}\n",
      "0.944 (+/-0.085) for {'C': 0.5, 'gamma': 0.00048828125, 'kernel': 'rbf'}\n",
      "0.952 (+/-0.080) for {'C': 0.5, 'gamma': 0.001953125, 'kernel': 'rbf'}\n",
      "0.956 (+/-0.082) for {'C': 0.5, 'gamma': 0.0078125, 'kernel': 'rbf'}\n",
      "0.500 (+/-0.000) for {'C': 0.5, 'gamma': 32, 'kernel': 'rbf'}\n",
      "0.951 (+/-0.054) for {'C': 0.5, 'gamma': 0.125, 'kernel': 'rbf'}\n",
      "0.910 (+/-0.074) for {'C': 0.5, 'gamma': 0.5, 'kernel': 'rbf'}\n",
      "0.500 (+/-0.000) for {'C': 0.5, 'gamma': 2, 'kernel': 'rbf'}\n",
      "0.500 (+/-0.000) for {'C': 0.5, 'gamma': 8, 'kernel': 'rbf'}\n",
      "0.954 (+/-0.080) for {'C': 2, 'gamma': 0.00048828125, 'kernel': 'rbf'}\n",
      "0.952 (+/-0.080) for {'C': 2, 'gamma': 0.001953125, 'kernel': 'rbf'}\n",
      "0.959 (+/-0.083) for {'C': 2, 'gamma': 0.0078125, 'kernel': 'rbf'}\n",
      "0.500 (+/-0.000) for {'C': 2, 'gamma': 32, 'kernel': 'rbf'}\n",
      "0.954 (+/-0.065) for {'C': 2, 'gamma': 0.125, 'kernel': 'rbf'}\n",
      "0.931 (+/-0.061) for {'C': 2, 'gamma': 0.5, 'kernel': 'rbf'}\n",
      "0.500 (+/-0.000) for {'C': 2, 'gamma': 2, 'kernel': 'rbf'}\n",
      "0.500 (+/-0.000) for {'C': 2, 'gamma': 8, 'kernel': 'rbf'}\n",
      "0.952 (+/-0.080) for {'C': 8, 'gamma': 0.00048828125, 'kernel': 'rbf'}\n",
      "0.959 (+/-0.083) for {'C': 8, 'gamma': 0.001953125, 'kernel': 'rbf'}\n",
      "0.939 (+/-0.084) for {'C': 8, 'gamma': 0.0078125, 'kernel': 'rbf'}\n",
      "0.500 (+/-0.000) for {'C': 8, 'gamma': 32, 'kernel': 'rbf'}\n",
      "0.954 (+/-0.065) for {'C': 8, 'gamma': 0.125, 'kernel': 'rbf'}\n",
      "0.931 (+/-0.061) for {'C': 8, 'gamma': 0.5, 'kernel': 'rbf'}\n",
      "0.500 (+/-0.000) for {'C': 8, 'gamma': 2, 'kernel': 'rbf'}\n",
      "0.500 (+/-0.000) for {'C': 8, 'gamma': 8, 'kernel': 'rbf'}\n",
      "0.959 (+/-0.083) for {'C': 32, 'gamma': 0.00048828125, 'kernel': 'rbf'}\n",
      "0.956 (+/-0.079) for {'C': 32, 'gamma': 0.001953125, 'kernel': 'rbf'}\n",
      "0.938 (+/-0.082) for {'C': 32, 'gamma': 0.0078125, 'kernel': 'rbf'}\n",
      "0.500 (+/-0.000) for {'C': 32, 'gamma': 32, 'kernel': 'rbf'}\n",
      "0.954 (+/-0.065) for {'C': 32, 'gamma': 0.125, 'kernel': 'rbf'}\n",
      "0.931 (+/-0.061) for {'C': 32, 'gamma': 0.5, 'kernel': 'rbf'}\n",
      "0.500 (+/-0.000) for {'C': 32, 'gamma': 2, 'kernel': 'rbf'}\n",
      "0.500 (+/-0.000) for {'C': 32, 'gamma': 8, 'kernel': 'rbf'}\n",
      "0.959 (+/-0.083) for {'C': 128, 'gamma': 0.00048828125, 'kernel': 'rbf'}\n",
      "0.946 (+/-0.071) for {'C': 128, 'gamma': 0.001953125, 'kernel': 'rbf'}\n",
      "0.916 (+/-0.071) for {'C': 128, 'gamma': 0.0078125, 'kernel': 'rbf'}\n",
      "0.500 (+/-0.000) for {'C': 128, 'gamma': 32, 'kernel': 'rbf'}\n",
      "0.954 (+/-0.065) for {'C': 128, 'gamma': 0.125, 'kernel': 'rbf'}\n",
      "0.931 (+/-0.061) for {'C': 128, 'gamma': 0.5, 'kernel': 'rbf'}\n",
      "0.500 (+/-0.000) for {'C': 128, 'gamma': 2, 'kernel': 'rbf'}\n",
      "0.500 (+/-0.000) for {'C': 128, 'gamma': 8, 'kernel': 'rbf'}\n",
      "0.956 (+/-0.079) for {'C': 512, 'gamma': 0.00048828125, 'kernel': 'rbf'}\n",
      "0.931 (+/-0.067) for {'C': 512, 'gamma': 0.001953125, 'kernel': 'rbf'}\n",
      "0.921 (+/-0.075) for {'C': 512, 'gamma': 0.0078125, 'kernel': 'rbf'}\n",
      "0.500 (+/-0.000) for {'C': 512, 'gamma': 32, 'kernel': 'rbf'}\n",
      "0.954 (+/-0.065) for {'C': 512, 'gamma': 0.125, 'kernel': 'rbf'}\n",
      "0.931 (+/-0.061) for {'C': 512, 'gamma': 0.5, 'kernel': 'rbf'}\n",
      "0.500 (+/-0.000) for {'C': 512, 'gamma': 2, 'kernel': 'rbf'}\n",
      "0.500 (+/-0.000) for {'C': 512, 'gamma': 8, 'kernel': 'rbf'}\n",
      "0.942 (+/-0.075) for {'C': 2048, 'gamma': 0.00048828125, 'kernel': 'rbf'}\n",
      "0.912 (+/-0.097) for {'C': 2048, 'gamma': 0.001953125, 'kernel': 'rbf'}\n",
      "0.921 (+/-0.075) for {'C': 2048, 'gamma': 0.0078125, 'kernel': 'rbf'}\n",
      "0.500 (+/-0.000) for {'C': 2048, 'gamma': 32, 'kernel': 'rbf'}\n",
      "0.954 (+/-0.065) for {'C': 2048, 'gamma': 0.125, 'kernel': 'rbf'}\n",
      "0.931 (+/-0.061) for {'C': 2048, 'gamma': 0.5, 'kernel': 'rbf'}\n",
      "0.500 (+/-0.000) for {'C': 2048, 'gamma': 2, 'kernel': 'rbf'}\n",
      "0.500 (+/-0.000) for {'C': 2048, 'gamma': 8, 'kernel': 'rbf'}\n",
      "\n",
      "Detailed classification report:\n",
      "\n",
      "The model is trained on the full development set.\n",
      "The scores are computed on the full evaluation set.\n",
      "\n",
      "              precision    recall  f1-score   support\n",
      "\n",
      "           2       0.98      0.98      0.98        81\n",
      "           4       0.97      0.97      0.97        59\n",
      "\n",
      "   micro avg       0.97      0.97      0.97       140\n",
      "   macro avg       0.97      0.97      0.97       140\n",
      "weighted avg       0.97      0.97      0.97       140\n",
      "\n",
      "\n"
     ]
    }
   ],
   "source": [
    "#USE GRIDSEARCH TO DISPLAY ALL 64 POSSIBLE COMBINATIONS OF COSTS AND GAMMAS TO DETERMINE THE BEST COMBO\n",
    "from sklearn.model_selection import GridSearchCV\n",
    "from sklearn.metrics import classification_report\n",
    "tuned_parameters = [{'kernel': ['rbf'], 'gamma': [2**-11,2**-9,2**-7,2**5,2**-3,2**-1,2,2**3],\n",
    "                     'C': [2**-3,2**-1,2,2**3,2**5,2**7,2**9,2**11]}]\n",
    "                   \n",
    "scores = ['precision', 'recall']\n",
    "\n",
    "for score in scores:\n",
    "    print(\"# Tuning hyper-parameters for %s\" % score)\n",
    "    print()\n",
    "\n",
    "    clf = GridSearchCV(SVC(), tuned_parameters, cv=10,\n",
    "                       scoring='%s_macro' % score)\n",
    "    clf.fit(X_train, y_train)\n",
    "\n",
    "    print(\"Best parameters set found :\")\n",
    "    print()\n",
    "    print(clf.best_params_)\n",
    "    print()\n",
    "    print(\"Grid scores on development set:\")\n",
    "    print()\n",
    "    means = clf.cv_results_['mean_test_score']\n",
    "    stds = clf.cv_results_['std_test_score']\n",
    "    for mean, std, params in zip(means, stds, clf.cv_results_['params']):\n",
    "        print(\"%0.3f (+/-%0.03f) for %r\"\n",
    "              % (mean, std * 2, params))\n",
    "    print()\n",
    "\n",
    "    print(\"Detailed classification report:\")\n",
    "    print()\n",
    "    print(\"The model is trained on the full development set.\")\n",
    "    print(\"The scores are computed on the full evaluation set.\")\n",
    "    print()\n",
    "    y_true, y_pred = y_cv, clf.predict(X_cv)\n",
    "    print(classification_report(y_true, y_pred))\n",
    "    print()\n"
   ]
  },
  {
   "cell_type": "markdown",
   "metadata": {},
   "source": [
    "# Support Vector Machines Model Building"
   ]
  },
  {
   "cell_type": "code",
   "execution_count": 3,
   "metadata": {},
   "outputs": [
    {
     "name": "stdout",
     "output_type": "stream",
     "text": [
      "CV Accuracy: 97.14285714285714\n"
     ]
    }
   ],
   "source": [
    "#MODEL BUILDING(TRAINING)\n",
    "#CHOOSE THE BEST COMIBINATION OF PRAMETERS FROM ABOVE ie  C = 8,  and gamma = 0.0078125,   kernal = rbf  \n",
    "from sklearn import metrics\n",
    "\n",
    "\n",
    "#Create a svm Classifier\n",
    "classifier = SVC(C=8, gamma=0.0078125, kernel='rbf')\n",
    "\n",
    "#train the model using training data\n",
    "classifier.fit(X_train, y_train)\n",
    "\n",
    "#predict accuracy of model\n",
    "y_pred = classifier.predict(X_cv)\n",
    "\n",
    "print(\"CV Accuracy:\",metrics.accuracy_score(y_cv, y_pred) * 100)     #Compare predicted value with test values\n"
   ]
  },
  {
   "cell_type": "markdown",
   "metadata": {},
   "source": [
    "# Predicted Values"
   ]
  },
  {
   "cell_type": "code",
   "execution_count": 4,
   "metadata": {},
   "outputs": [
    {
     "data": {
      "text/plain": [
       "array([4, 2, 4, 2, 4, 2, 4, 2, 4, 4, 4, 2, 2, 4, 4, 2, 4, 2, 2, 2, 2, 2,\n",
       "       4, 2, 2, 4, 4, 4, 4, 2, 2, 4, 2, 4, 2, 2, 2, 2, 2, 4, 2, 4, 4, 4,\n",
       "       2, 2, 4, 2, 4, 2, 2, 4, 2, 2, 2, 4, 4, 4, 2, 2, 2, 2, 4, 4, 2, 4,\n",
       "       2, 4, 2, 4, 2, 2, 2, 4, 4, 2, 2, 4, 4, 2, 2, 2, 4, 4, 2, 2, 4, 4,\n",
       "       2, 2, 4, 4, 4, 4, 2, 2, 4, 2, 2, 2, 4, 4, 2, 2, 2, 2, 4, 2, 4, 2,\n",
       "       4, 2, 4, 4, 2, 2, 2, 2, 2, 2, 4, 4, 2, 2, 2, 2, 4, 2, 4, 4, 2, 2,\n",
       "       2, 2, 2, 2, 4, 4, 2, 2], dtype=int64)"
      ]
     },
     "execution_count": 4,
     "metadata": {},
     "output_type": "execute_result"
    }
   ],
   "source": [
    "y_pred"
   ]
  },
  {
   "cell_type": "code",
   "execution_count": 5,
   "metadata": {},
   "outputs": [
    {
     "name": "stdout",
     "output_type": "stream",
     "text": [
      "[[79  2]\n",
      " [ 2 57]]\n",
      "              precision    recall  f1-score   support\n",
      "\n",
      "           2       0.98      0.98      0.98        81\n",
      "           4       0.97      0.97      0.97        59\n",
      "\n",
      "   micro avg       0.97      0.97      0.97       140\n",
      "   macro avg       0.97      0.97      0.97       140\n",
      "weighted avg       0.97      0.97      0.97       140\n",
      "\n"
     ]
    }
   ],
   "source": [
    "from sklearn.metrics import classification_report, confusion_matrix  \n",
    "print(confusion_matrix(y_cv, y_pred))  \n",
    "print(classification_report(y_cv, y_pred))"
   ]
  },
  {
   "cell_type": "markdown",
   "metadata": {},
   "source": [
    "# K-Fold Cross Validation"
   ]
  },
  {
   "cell_type": "code",
   "execution_count": 6,
   "metadata": {},
   "outputs": [
    {
     "data": {
      "text/plain": [
       "0.027929977206168174"
      ]
     },
     "execution_count": 6,
     "metadata": {},
     "output_type": "execute_result"
    }
   ],
   "source": [
    "#applying k fold cross validation\n",
    "from sklearn.model_selection import cross_val_score\n",
    "accuracies = cross_val_score(estimator = classifier, X = X_train, y = y_train, cv = 10)\n",
    "accuracies.mean()\n",
    "accuracies.std()"
   ]
  },
  {
   "cell_type": "code",
   "execution_count": null,
   "metadata": {},
   "outputs": [],
   "source": []
  },
  {
   "cell_type": "code",
   "execution_count": null,
   "metadata": {},
   "outputs": [],
   "source": []
  }
 ],
 "metadata": {
  "kernelspec": {
   "display_name": "Python 3",
   "language": "python",
   "name": "python3"
  },
  "language_info": {
   "codemirror_mode": {
    "name": "ipython",
    "version": 3
   },
   "file_extension": ".py",
   "mimetype": "text/x-python",
   "name": "python",
   "nbconvert_exporter": "python",
   "pygments_lexer": "ipython3",
   "version": "3.6.5"
  }
 },
 "nbformat": 4,
 "nbformat_minor": 2
}
